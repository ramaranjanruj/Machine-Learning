{
 "cells": [
  {
   "cell_type": "code",
   "execution_count": 1,
   "metadata": {
    "collapsed": true
   },
   "outputs": [],
   "source": [
    "# Importing the libraries\n",
    "\n",
    "import matplotlib.pyplot as plt\n",
    "from sklearn import linear_model\n",
    "import numpy as np\n",
    "import pandas as pd\n",
    "\n",
    "\n",
    "# Loading the training and testing datasets.\n",
    "\n",
    "train_data = pd.read_csv('kc_house_train_data.csv')\n",
    "test_data = pd.read_csv('kc_house_test_data.csv')\n"
   ]
  },
  {
   "cell_type": "code",
   "execution_count": 15,
   "metadata": {
    "collapsed": false
   },
   "outputs": [
    {
     "name": "stdout",
     "output_type": "stream",
     "text": [
      "12.4466777016\n"
     ]
    }
   ],
   "source": [
    "## Q.1 What is the mean value (arithmetic average) of the 'bedrooms_squared' feature on TEST data? (round to 2 decimal places)\n",
    "\n",
    "train_data['bedrooms_squared'] = train_data['bedrooms']**2\n",
    "train_data['bed_bath_rooms'] = train_data['bedrooms']*train_data['bathrooms']\n",
    "train_data['log_sqft_living'] = np.log(train_data['sqft_living'])\n",
    "train_data['lat_plus_long'] = train_data['lat'] + train_data['long']\n",
    "\n",
    "test_data['bedrooms_squared'] = test_data['bedrooms']**2\n",
    "test_data['bed_bath_rooms'] = test_data['bedrooms']*test_data['bathrooms']\n",
    "test_data['log_sqft_living'] = np.log(test_data['sqft_living'])\n",
    "test_data['lat_plus_long'] = test_data['lat'] + test_data['long']\n",
    "\n",
    "print test_data['bedrooms_squared'].mean()"
   ]
  },
  {
   "cell_type": "code",
   "execution_count": 16,
   "metadata": {
    "collapsed": false
   },
   "outputs": [
    {
     "name": "stdout",
     "output_type": "stream",
     "text": [
      "12.4466777016\n",
      "7.50390163159\n",
      "7.55027467965\n",
      "-74.653333554\n"
     ]
    }
   ],
   "source": [
    "print test_data['bedrooms_squared'].mean()\n",
    "print test_data['bed_bath_rooms'].mean()\n",
    "print test_data['log_sqft_living'].mean()\n",
    "print test_data['lat_plus_long'].mean()"
   ]
  },
  {
   "cell_type": "code",
   "execution_count": 17,
   "metadata": {
    "collapsed": true
   },
   "outputs": [],
   "source": [
    "# List of features for model-1\n",
    "features_1 = ['sqft_living','bedrooms','bathrooms','lat','long']\n",
    "\n",
    "# List of features for model-2\n",
    "features_2 = ['sqft_living','bedrooms','bathrooms','lat','long','bed_bath_rooms']\n",
    "\n",
    "# List of features for model-3\n",
    "features_3 = ['sqft_living','bedrooms','bathrooms','lat','long','bed_bath_rooms',\n",
    "              'bedrooms_squared','log_sqft_living','lat_plus_long']\n",
    "\n",
    "# Creating new datasets as per the features\n",
    "\n",
    "# Creating data pair(training, testing) for model-1\n",
    "X_data_1 = train_data.loc[:,features_1]\n",
    "Xt_data_1 = test_data.loc[:,features_1]\n",
    "\n",
    "# Creating data pair(training, testing) for model-2\n",
    "X_data_2 = train_data.loc[:,features_2]\n",
    "Xt_data_2 = test_data.loc[:,features_2]\n",
    "\n",
    "# Creating data pair(training, testing) for model-3\n",
    "X_data_3 = train_data.loc[:,features_3]\n",
    "Xt_data_3 = test_data.loc[:,features_3]\n",
    "\n",
    "# Creating the target variable for testing and training set\n",
    "Y_data = train_data.loc[:,'price']\n",
    "Yt_data = test_data.loc[:,'price']"
   ]
  },
  {
   "cell_type": "code",
   "execution_count": 18,
   "metadata": {
    "collapsed": false
   },
   "outputs": [
    {
     "data": {
      "text/plain": [
       "LinearRegression(copy_X=True, fit_intercept=True, n_jobs=1, normalize=False)"
      ]
     },
     "execution_count": 18,
     "metadata": {},
     "output_type": "execute_result"
    }
   ],
   "source": [
    "# Creating a new linear regression object and fitting the model-1\n",
    "regr1 = linear_model.LinearRegression()\n",
    "regr1.fit(X_data_1, Y_data)\n",
    "\n",
    "# Creating a new linear regression object and fitting the model-2\n",
    "regr2 = linear_model.LinearRegression()\n",
    "regr2.fit(X_data_2, Y_data)\n",
    "\n",
    "# Creating a new linear regression object and fitting the model-3\n",
    "regr3 = linear_model.LinearRegression()\n",
    "regr3.fit(X_data_3, Y_data)"
   ]
  },
  {
   "cell_type": "code",
   "execution_count": 20,
   "metadata": {
    "collapsed": false
   },
   "outputs": [
    {
     "name": "stdout",
     "output_type": "stream",
     "text": [
      "[  3.12258646e+02  -5.95865332e+04   1.57067421e+04   6.58619264e+05\n",
      "  -3.09374351e+05]\n",
      "[  3.06610053e+02  -1.13446368e+05  -7.14613083e+04   6.54844630e+05\n",
      "  -2.94298969e+05   2.55796520e+04]\n"
     ]
    }
   ],
   "source": [
    "# Printing out the coefficents of regression for Model-1 and Model-2\n",
    "print regr1.coef_\n",
    "print regr2.coef_"
   ]
  },
  {
   "cell_type": "code",
   "execution_count": 24,
   "metadata": {
    "collapsed": true
   },
   "outputs": [],
   "source": [
    "# Defining a function that generates the RSS for a model for a given dataset\n",
    "\n",
    "def get_residual_sum_of_squares(model, X, Y):\n",
    "    # First get the predictions\n",
    "    predictions = model.predict(X)\n",
    "\n",
    "    # Then compute the residuals/errors\n",
    "    errors = predictions - Y\n",
    "\n",
    "    # Then square and add them up\n",
    "    RSS = sum(errors**2)\n",
    "\n",
    "    return(RSS) "
   ]
  },
  {
   "cell_type": "code",
   "execution_count": 25,
   "metadata": {
    "collapsed": false
   },
   "outputs": [
    {
     "name": "stdout",
     "output_type": "stream",
     "text": [
      "9.6787996305e+14\n",
      "9.58419635074e+14\n",
      "9.0343645505e+14\n"
     ]
    }
   ],
   "source": [
    "# Getting the RSS for model-1\n",
    "print get_residual_sum_of_squares(regr1, X_data_1, Y_data)\n",
    "\n",
    "# Getting the RSS for model-2\n",
    "print get_residual_sum_of_squares(regr2, X_data_2, Y_data)\n",
    "\n",
    "# Getting the RSS for model-3\n",
    "print get_residual_sum_of_squares(regr3, X_data_3, Y_data)"
   ]
  },
  {
   "cell_type": "code",
   "execution_count": 26,
   "metadata": {
    "collapsed": false
   },
   "outputs": [
    {
     "name": "stdout",
     "output_type": "stream",
     "text": [
      "2.25500469795e+14\n",
      "2.23377462976e+14\n",
      "2.59236319207e+14\n"
     ]
    }
   ],
   "source": [
    "# Printing out the RSS for testing datasets (model-1)\n",
    "print get_residual_sum_of_squares(regr1, Xt_data_1, Yt_data)\n",
    "\n",
    "# Printing out the RSS for testing datasets (model-2)\n",
    "print get_residual_sum_of_squares(regr2, Xt_data_2, Yt_data)\n",
    "\n",
    "# Printing out the RSS for testing datasets (model-3)\n",
    "print get_residual_sum_of_squares(regr3, Xt_data_3, Yt_data)"
   ]
  },
  {
   "cell_type": "code",
   "execution_count": null,
   "metadata": {
    "collapsed": true
   },
   "outputs": [],
   "source": []
  }
 ],
 "metadata": {
  "kernelspec": {
   "display_name": "Python 2",
   "language": "python",
   "name": "python2"
  },
  "language_info": {
   "codemirror_mode": {
    "name": "ipython",
    "version": 2
   },
   "file_extension": ".py",
   "mimetype": "text/x-python",
   "name": "python",
   "nbconvert_exporter": "python",
   "pygments_lexer": "ipython2",
   "version": "2.7.11"
  }
 },
 "nbformat": 4,
 "nbformat_minor": 0
}
